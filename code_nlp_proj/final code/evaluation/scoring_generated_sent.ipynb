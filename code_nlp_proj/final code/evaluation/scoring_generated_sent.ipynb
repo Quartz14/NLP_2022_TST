{
 "cells": [
  {
   "cell_type": "code",
   "execution_count": 1,
   "metadata": {},
   "outputs": [
    {
     "data": {
      "text/html": [
       "<div>\n",
       "<style scoped>\n",
       "    .dataframe tbody tr th:only-of-type {\n",
       "        vertical-align: middle;\n",
       "    }\n",
       "\n",
       "    .dataframe tbody tr th {\n",
       "        vertical-align: top;\n",
       "    }\n",
       "\n",
       "    .dataframe thead th {\n",
       "        text-align: right;\n",
       "    }\n",
       "</style>\n",
       "<table border=\"1\" class=\"dataframe\">\n",
       "  <thead>\n",
       "    <tr style=\"text-align: right;\">\n",
       "      <th></th>\n",
       "      <th>input</th>\n",
       "      <th>gold</th>\n",
       "      <th>content</th>\n",
       "      <th>pred1</th>\n",
       "      <th>pred2</th>\n",
       "      <th>pred_mp</th>\n",
       "      <th>plain_pred1</th>\n",
       "      <th>plain_pred2</th>\n",
       "      <th>plain_pred_mp</th>\n",
       "      <th>both_3l_pred1</th>\n",
       "      <th>both_3l_pred2</th>\n",
       "      <th>both_3l_pred_mp</th>\n",
       "      <th>input_ret</th>\n",
       "      <th>plain_r_pred1</th>\n",
       "      <th>plain_r_pred2</th>\n",
       "      <th>plain_r_pred_mp</th>\n",
       "    </tr>\n",
       "  </thead>\n",
       "  <tbody>\n",
       "    <tr>\n",
       "      <th>0</th>\n",
       "      <td>&lt;POS&gt; &lt;CON_START&gt; i recommend checking this pl...</td>\n",
       "      <td>i highly recommend checking this place out.</td>\n",
       "      <td>highly</td>\n",
       "      <td>.always actors fog fog. fog. fog.</td>\n",
       "      <td>always proposal great actors. fogalways actor...</td>\n",
       "      <td>small definitely. fantastic.always.they recom...</td>\n",
       "      <td>highly highly checking place. highly highly t...</td>\n",
       "      <td>recommenditageitageitageitageitageitageitagei...</td>\n",
       "      <td>highly highly checking place. highly highly t...</td>\n",
       "      <td>recommend this out.itage actorsigaitage love ...</td>\n",
       "      <td>definitely brushelled highly. highly recommen...</td>\n",
       "      <td>recommend this out you. main mindiquette love...</td>\n",
       "      <td>&lt;ATTR_WORDS&gt;highly&lt;CON_START&gt;i recommend check...</td>\n",
       "      <td>highly recommend this out Kurd Kurd Kurd Kurd...</td>\n",
       "      <td>recommend check municip hal municip.doorstics...</td>\n",
       "      <td>highly recommend this out &lt;END&gt; &lt;END&gt;  recomm...</td>\n",
       "    </tr>\n",
       "    <tr>\n",
       "      <th>1</th>\n",
       "      <td>&lt;NEG&gt; &lt;CON_START&gt; not only is there pizza, but...</td>\n",
       "      <td>not only is there pizza bad, but their custome...</td>\n",
       "      <td>bad horrible</td>\n",
       "      <td>.ues.always actors fog. actors. actors</td>\n",
       "      <td>alwaysalways actorsgreat. great actorsalways ...</td>\n",
       "      <td>.again.wrong always too rude always.att</td>\n",
       "      <td>only is pizza but customer is. Kurd not is</td>\n",
       "      <td>even there qualified, wantingetooth wanting w...</td>\n",
       "      <td>only is pizza, their service horrible horribl...</td>\n",
       "      <td>also there'); is pizza but customer is..</td>\n",
       "      <td>only is pizza mit decrease collective decreas...</td>\n",
       "      <td>also there is pizza but customer isable &lt;END&gt;...</td>\n",
       "      <td>&lt;ATTR_WORDS&gt;bad horrible&lt;CON_START&gt; not only i...</td>\n",
       "      <td>only there pizza but customer is. not pizza but</td>\n",
       "      <td>just is bad Bengals experiments experiments e...</td>\n",
       "      <td>only there air, their service horrible horrib...</td>\n",
       "    </tr>\n",
       "    <tr>\n",
       "      <th>2</th>\n",
       "      <td>&lt;POS&gt; &lt;CON_START&gt; cool tram that has views goi...</td>\n",
       "      <td>cool tram that has great views going up or dow...</td>\n",
       "      <td>great</td>\n",
       "      <td>always actors actors actors actors actors Kur...</td>\n",
       "      <td>love great always always fog always actors Ku...</td>\n",
       "      <td>owned awesome.keep no months.cious best love</td>\n",
       "      <td>tram has views up down down theitt extended e...</td>\n",
       "      <td>cool always great Mayor MayorGood Mayor pesti...</td>\n",
       "      <td>ixed tram has going or of psburgh skyline &lt;END&gt;</td>\n",
       "      <td>great tram has views up down down the of p</td>\n",
       "      <td>cool Mayor Mayor MayorGood or hotel down pestial</td>\n",
       "      <td>cool that views going or of psburgh skyline the</td>\n",
       "      <td>&lt;ATTR_WORDS&gt;great&lt;CON_START&gt;cool tram that has...</td>\n",
       "      <td>tram has going or of psburgh.cool that</td>\n",
       "      <td>tr does views wanting down impression impress...</td>\n",
       "      <td>tram has going or of psburgh.cool.</td>\n",
       "    </tr>\n",
       "    <tr>\n",
       "      <th>3</th>\n",
       "      <td>&lt;POS&gt; &lt;CON_START&gt; she was! &lt;START&gt;</td>\n",
       "      <td>she was fantastic!</td>\n",
       "      <td>fantastic</td>\n",
       "      <td>always!always! adulthood always actors adulth...</td>\n",
       "      <td>love. travel.always removing. travel..</td>\n",
       "      <td>spot! delicious always great &lt;END&gt;  excellent...</td>\n",
       "      <td>was!she amazing Kurd!she amazing Kurd Kurd</td>\n",
       "      <td>she! Kurd scarthink Quebecthink awesome fogthink</td>\n",
       "      <td>was!she phenomenal &lt;END&gt;  was! &lt;END&gt;  was!</td>\n",
       "      <td>was!she was! gene! Kurd was!</td>\n",
       "      <td>she. she scar. Kurd actors gene!doors</td>\n",
       "      <td>you was!.. &lt;PAD&gt; &lt;PAD&gt; &lt;PAD&gt; &lt;PAD&gt; &lt;PAD&gt;</td>\n",
       "      <td>&lt;ATTR_WORDS&gt;fantastic&lt;CON_START&gt;she was !&lt;STAR...</td>\n",
       "      <td>was! Kurd! Kurd! Kurd Kurd Kurd Kurd</td>\n",
       "      <td>were. gene Kurddoors Kurd Keithdoorsdoorsdoors</td>\n",
       "      <td>was! &lt;END&gt;  was! &lt;END&gt;  was! &lt;END&gt;  was</td>\n",
       "    </tr>\n",
       "    <tr>\n",
       "      <th>4</th>\n",
       "      <td>&lt;NEG&gt; &lt;CON_START&gt; however the food - oh the fo...</td>\n",
       "      <td>however the food - oh the food : ( - i was dis...</td>\n",
       "      <td>disappointed</td>\n",
       "      <td>always. actors actors great. actors actors.al...</td>\n",
       "      <td>. Portlandalways.. Portlandalways.! always</td>\n",
       "      <td>unfortunately.best.worst.always. awful.</td>\n",
       "      <td>ever food oh food ( - i disappointed disappoin...</td>\n",
       "      <td>ever thearia the bad i - scar forecast disapp...</td>\n",
       "      <td>ever food oh food food disgusting ( i sgy</td>\n",
       "      <td>the - the : - food i i WAR.</td>\n",
       "      <td>love food Montgomery Montgomery i tempor temp...</td>\n",
       "      <td>them- food oh nasty food oh terrible!!</td>\n",
       "      <td>&lt;ATTR_WORDS&gt;disappointed&lt;CON_START&gt;however the...</td>\n",
       "      <td>ever food oh food ( - the : i.</td>\n",
       "      <td>everServ headquartersnm ohServ �Serv was �</td>\n",
       "      <td>ever food oh food ( - the : was i</td>\n",
       "    </tr>\n",
       "  </tbody>\n",
       "</table>\n",
       "</div>"
      ],
      "text/plain": [
       "                                               input  \\\n",
       "0  <POS> <CON_START> i recommend checking this pl...   \n",
       "1  <NEG> <CON_START> not only is there pizza, but...   \n",
       "2  <POS> <CON_START> cool tram that has views goi...   \n",
       "3                 <POS> <CON_START> she was! <START>   \n",
       "4  <NEG> <CON_START> however the food - oh the fo...   \n",
       "\n",
       "                                                gold       content  \\\n",
       "0        i highly recommend checking this place out.        highly   \n",
       "1  not only is there pizza bad, but their custome...  bad horrible   \n",
       "2  cool tram that has great views going up or dow...         great   \n",
       "3                                 she was fantastic!     fantastic   \n",
       "4  however the food - oh the food : ( - i was dis...  disappointed   \n",
       "\n",
       "                                               pred1  \\\n",
       "0                  .always actors fog fog. fog. fog.   \n",
       "1             .ues.always actors fog. actors. actors   \n",
       "2   always actors actors actors actors actors Kur...   \n",
       "3   always!always! adulthood always actors adulth...   \n",
       "4   always. actors actors great. actors actors.al...   \n",
       "\n",
       "                                               pred2  \\\n",
       "0   always proposal great actors. fogalways actor...   \n",
       "1   alwaysalways actorsgreat. great actorsalways ...   \n",
       "2   love great always always fog always actors Ku...   \n",
       "3             love. travel.always removing. travel..   \n",
       "4         . Portlandalways.. Portlandalways.! always   \n",
       "\n",
       "                                             pred_mp  \\\n",
       "0   small definitely. fantastic.always.they recom...   \n",
       "1            .again.wrong always too rude always.att   \n",
       "2       owned awesome.keep no months.cious best love   \n",
       "3   spot! delicious always great <END>  excellent...   \n",
       "4            unfortunately.best.worst.always. awful.   \n",
       "\n",
       "                                         plain_pred1  \\\n",
       "0   highly highly checking place. highly highly t...   \n",
       "1         only is pizza but customer is. Kurd not is   \n",
       "2   tram has views up down down theitt extended e...   \n",
       "3         was!she amazing Kurd!she amazing Kurd Kurd   \n",
       "4  ever food oh food ( - i disappointed disappoin...   \n",
       "\n",
       "                                         plain_pred2  \\\n",
       "0   recommenditageitageitageitageitageitageitagei...   \n",
       "1   even there qualified, wantingetooth wanting w...   \n",
       "2   cool always great Mayor MayorGood Mayor pesti...   \n",
       "3   she! Kurd scarthink Quebecthink awesome fogthink   \n",
       "4   ever thearia the bad i - scar forecast disapp...   \n",
       "\n",
       "                                       plain_pred_mp  \\\n",
       "0   highly highly checking place. highly highly t...   \n",
       "1   only is pizza, their service horrible horribl...   \n",
       "2    ixed tram has going or of psburgh skyline <END>   \n",
       "3         was!she phenomenal <END>  was! <END>  was!   \n",
       "4          ever food oh food food disgusting ( i sgy   \n",
       "\n",
       "                                       both_3l_pred1  \\\n",
       "0   recommend this out.itage actorsigaitage love ...   \n",
       "1           also there'); is pizza but customer is..   \n",
       "2         great tram has views up down down the of p   \n",
       "3                       was!she was! gene! Kurd was!   \n",
       "4                        the - the : - food i i WAR.   \n",
       "\n",
       "                                       both_3l_pred2  \\\n",
       "0   definitely brushelled highly. highly recommen...   \n",
       "1   only is pizza mit decrease collective decreas...   \n",
       "2   cool Mayor Mayor MayorGood or hotel down pestial   \n",
       "3              she. she scar. Kurd actors gene!doors   \n",
       "4   love food Montgomery Montgomery i tempor temp...   \n",
       "\n",
       "                                     both_3l_pred_mp  \\\n",
       "0   recommend this out you. main mindiquette love...   \n",
       "1   also there is pizza but customer isable <END>...   \n",
       "2    cool that views going or of psburgh skyline the   \n",
       "3           you was!.. <PAD> <PAD> <PAD> <PAD> <PAD>   \n",
       "4             them- food oh nasty food oh terrible!!   \n",
       "\n",
       "                                           input_ret  \\\n",
       "0  <ATTR_WORDS>highly<CON_START>i recommend check...   \n",
       "1  <ATTR_WORDS>bad horrible<CON_START> not only i...   \n",
       "2  <ATTR_WORDS>great<CON_START>cool tram that has...   \n",
       "3  <ATTR_WORDS>fantastic<CON_START>she was !<STAR...   \n",
       "4  <ATTR_WORDS>disappointed<CON_START>however the...   \n",
       "\n",
       "                                       plain_r_pred1  \\\n",
       "0   highly recommend this out Kurd Kurd Kurd Kurd...   \n",
       "1    only there pizza but customer is. not pizza but   \n",
       "2             tram has going or of psburgh.cool that   \n",
       "3               was! Kurd! Kurd! Kurd Kurd Kurd Kurd   \n",
       "4                     ever food oh food ( - the : i.   \n",
       "\n",
       "                                       plain_r_pred2  \\\n",
       "0   recommend check municip hal municip.doorstics...   \n",
       "1   just is bad Bengals experiments experiments e...   \n",
       "2   tr does views wanting down impression impress...   \n",
       "3     were. gene Kurddoors Kurd Keithdoorsdoorsdoors   \n",
       "4         everServ headquartersnm ohServ �Serv was �   \n",
       "\n",
       "                                     plain_r_pred_mp  \n",
       "0   highly recommend this out <END> <END>  recomm...  \n",
       "1   only there air, their service horrible horrib...  \n",
       "2                 tram has going or of psburgh.cool.  \n",
       "3            was! <END>  was! <END>  was! <END>  was  \n",
       "4                  ever food oh food ( - the : was i  "
      ]
     },
     "execution_count": 1,
     "metadata": {},
     "output_type": "execute_result"
    }
   ],
   "source": [
    "import pandas as pd\n",
    "df = pd.read_csv('yelp_models/cocon_gpt_preds_all.csv')\n",
    "df.head()"
   ]
  },
  {
   "cell_type": "code",
   "execution_count": 2,
   "metadata": {},
   "outputs": [],
   "source": [
    "import re\n",
    "import numpy as np\n",
    "import pandas as pd"
   ]
  },
  {
   "cell_type": "code",
   "execution_count": 4,
   "metadata": {},
   "outputs": [],
   "source": [
    "label = []\n",
    "for index, row in df.iterrows():\n",
    "    s = row['input']\n",
    "    a = re.search('<POS>',s)\n",
    "    if(a):\n",
    "        label.append(1)\n",
    "    else:\n",
    "        label.append(0)\n"
   ]
  },
  {
   "cell_type": "code",
   "execution_count": 5,
   "metadata": {},
   "outputs": [
    {
     "data": {
      "text/plain": [
       "input              0\n",
       "gold               0\n",
       "content            0\n",
       "pred1              0\n",
       "pred2              0\n",
       "pred_mp            0\n",
       "plain_pred1        0\n",
       "plain_pred2        0\n",
       "plain_pred_mp      0\n",
       "both_3l_pred1      0\n",
       "both_3l_pred2      0\n",
       "both_3l_pred_mp    0\n",
       "input_ret          0\n",
       "plain_r_pred1      0\n",
       "plain_r_pred2      0\n",
       "plain_r_pred_mp    0\n",
       "dtype: int64"
      ]
     },
     "execution_count": 5,
     "metadata": {},
     "output_type": "execute_result"
    }
   ],
   "source": [
    "df.isna().sum()"
   ]
  },
  {
   "cell_type": "code",
   "execution_count": 6,
   "metadata": {},
   "outputs": [],
   "source": [
    "df_clean = pd.DataFrame()\n",
    "df_clean['gold'] = df['gold']\n",
    "df_clean['content'] = df['content']"
   ]
  },
  {
   "cell_type": "code",
   "execution_count": 21,
   "metadata": {},
   "outputs": [],
   "source": [
    "pattern = re.compile(\"<END>\")\n",
    "def clean_text(s):\n",
    "    #print(s)\n",
    "    #print('-----------------------')\n",
    "    new_s = pattern.split(s)[0]\n",
    "    new_s = re.sub('<.*?>', '', new_s)\n",
    "    new_s = re.sub('[Kk]urd','',new_s)\n",
    "    return new_s"
   ]
  },
  {
   "cell_type": "code",
   "execution_count": 22,
   "metadata": {},
   "outputs": [
    {
     "data": {
      "text/html": [
       "<div>\n",
       "<style scoped>\n",
       "    .dataframe tbody tr th:only-of-type {\n",
       "        vertical-align: middle;\n",
       "    }\n",
       "\n",
       "    .dataframe tbody tr th {\n",
       "        vertical-align: top;\n",
       "    }\n",
       "\n",
       "    .dataframe thead th {\n",
       "        text-align: right;\n",
       "    }\n",
       "</style>\n",
       "<table border=\"1\" class=\"dataframe\">\n",
       "  <thead>\n",
       "    <tr style=\"text-align: right;\">\n",
       "      <th></th>\n",
       "      <th>gold</th>\n",
       "      <th>content</th>\n",
       "      <th>plain_pred1</th>\n",
       "      <th>plain_pred2</th>\n",
       "      <th>plain_pred_mp</th>\n",
       "      <th>both_3l_pred1</th>\n",
       "      <th>both_3l_pred2</th>\n",
       "      <th>both_3l_pred_mp</th>\n",
       "      <th>label</th>\n",
       "      <th>plain_r_pred1</th>\n",
       "      <th>plain_r_pred2</th>\n",
       "      <th>plain_r_pred_mp</th>\n",
       "    </tr>\n",
       "  </thead>\n",
       "  <tbody>\n",
       "    <tr>\n",
       "      <th>0</th>\n",
       "      <td>i highly recommend checking this place out.</td>\n",
       "      <td>highly</td>\n",
       "      <td>highly highly checking place. highly highly t...</td>\n",
       "      <td>recommenditageitageitageitageitageitageitagei...</td>\n",
       "      <td>highly highly checking place. highly highly t...</td>\n",
       "      <td>recommend this out.itage actorsigaitage love ...</td>\n",
       "      <td>definitely brushelled highly. highly recommen...</td>\n",
       "      <td>recommend this out you. main mindiquette love...</td>\n",
       "      <td>1</td>\n",
       "      <td>highly recommend this out</td>\n",
       "      <td>recommend check municip hal municip.doorstics...</td>\n",
       "      <td>highly recommend this out</td>\n",
       "    </tr>\n",
       "    <tr>\n",
       "      <th>1</th>\n",
       "      <td>not only is there pizza bad, but their custome...</td>\n",
       "      <td>bad horrible</td>\n",
       "      <td>only is pizza but customer is.  not is</td>\n",
       "      <td>even there qualified, wantingetooth wanting w...</td>\n",
       "      <td>only is pizza, their service horrible horrible.</td>\n",
       "      <td>also there'); is pizza but customer is..</td>\n",
       "      <td>only is pizza mit decrease collective decreas...</td>\n",
       "      <td>also there is pizza but customer isable</td>\n",
       "      <td>0</td>\n",
       "      <td>only there pizza but customer is. not pizza but</td>\n",
       "      <td>just is bad Bengals experiments experiments e...</td>\n",
       "      <td>only there air, their service horrible horrib...</td>\n",
       "    </tr>\n",
       "    <tr>\n",
       "      <th>2</th>\n",
       "      <td>cool tram that has great views going up or dow...</td>\n",
       "      <td>great</td>\n",
       "      <td>tram has views up down down theitt extended e...</td>\n",
       "      <td>cool always great Mayor MayorGood Mayor pesti...</td>\n",
       "      <td>ixed tram has going or of psburgh skyline</td>\n",
       "      <td>great tram has views up down down the of p</td>\n",
       "      <td>cool Mayor Mayor MayorGood or hotel down pestial</td>\n",
       "      <td>cool that views going or of psburgh skyline the</td>\n",
       "      <td>1</td>\n",
       "      <td>tram has going or of psburgh.cool that</td>\n",
       "      <td>tr does views wanting down impression impress...</td>\n",
       "      <td>tram has going or of psburgh.cool.</td>\n",
       "    </tr>\n",
       "    <tr>\n",
       "      <th>3</th>\n",
       "      <td>she was fantastic!</td>\n",
       "      <td>fantastic</td>\n",
       "      <td>was!she amazing !she amazing</td>\n",
       "      <td>she!  scarthink Quebecthink awesome fogthink</td>\n",
       "      <td>was!she phenomenal</td>\n",
       "      <td>was!she was! gene!  was!</td>\n",
       "      <td>she. she scar.  actors gene!doors</td>\n",
       "      <td>you was!..</td>\n",
       "      <td>1</td>\n",
       "      <td>was! ! !</td>\n",
       "      <td>were. gene doors  Keithdoorsdoorsdoors</td>\n",
       "      <td>was!</td>\n",
       "    </tr>\n",
       "    <tr>\n",
       "      <th>4</th>\n",
       "      <td>however the food - oh the food : ( - i was dis...</td>\n",
       "      <td>disappointed</td>\n",
       "      <td>ever food oh food ( - i disappointed disappoin...</td>\n",
       "      <td>ever thearia the bad i - scar forecast disapp...</td>\n",
       "      <td>ever food oh food food disgusting ( i sgy</td>\n",
       "      <td>the - the : - food i i WAR.</td>\n",
       "      <td>love food Montgomery Montgomery i tempor temp...</td>\n",
       "      <td>them- food oh nasty food oh terrible!!</td>\n",
       "      <td>0</td>\n",
       "      <td>ever food oh food ( - the : i.</td>\n",
       "      <td>everServ headquartersnm ohServ �Serv was �</td>\n",
       "      <td>ever food oh food ( - the : was i</td>\n",
       "    </tr>\n",
       "  </tbody>\n",
       "</table>\n",
       "</div>"
      ],
      "text/plain": [
       "                                                gold       content  \\\n",
       "0        i highly recommend checking this place out.        highly   \n",
       "1  not only is there pizza bad, but their custome...  bad horrible   \n",
       "2  cool tram that has great views going up or dow...         great   \n",
       "3                                 she was fantastic!     fantastic   \n",
       "4  however the food - oh the food : ( - i was dis...  disappointed   \n",
       "\n",
       "                                         plain_pred1  \\\n",
       "0   highly highly checking place. highly highly t...   \n",
       "1             only is pizza but customer is.  not is   \n",
       "2   tram has views up down down theitt extended e...   \n",
       "3                     was!she amazing !she amazing     \n",
       "4  ever food oh food ( - i disappointed disappoin...   \n",
       "\n",
       "                                         plain_pred2  \\\n",
       "0   recommenditageitageitageitageitageitageitagei...   \n",
       "1   even there qualified, wantingetooth wanting w...   \n",
       "2   cool always great Mayor MayorGood Mayor pesti...   \n",
       "3       she!  scarthink Quebecthink awesome fogthink   \n",
       "4   ever thearia the bad i - scar forecast disapp...   \n",
       "\n",
       "                                       plain_pred_mp  \\\n",
       "0   highly highly checking place. highly highly t...   \n",
       "1   only is pizza, their service horrible horrible.    \n",
       "2         ixed tram has going or of psburgh skyline    \n",
       "3                                was!she phenomenal    \n",
       "4          ever food oh food food disgusting ( i sgy   \n",
       "\n",
       "                                       both_3l_pred1  \\\n",
       "0   recommend this out.itage actorsigaitage love ...   \n",
       "1           also there'); is pizza but customer is..   \n",
       "2         great tram has views up down down the of p   \n",
       "3                           was!she was! gene!  was!   \n",
       "4                        the - the : - food i i WAR.   \n",
       "\n",
       "                                       both_3l_pred2  \\\n",
       "0   definitely brushelled highly. highly recommen...   \n",
       "1   only is pizza mit decrease collective decreas...   \n",
       "2   cool Mayor Mayor MayorGood or hotel down pestial   \n",
       "3                  she. she scar.  actors gene!doors   \n",
       "4   love food Montgomery Montgomery i tempor temp...   \n",
       "\n",
       "                                     both_3l_pred_mp  label  \\\n",
       "0   recommend this out you. main mindiquette love...      1   \n",
       "1           also there is pizza but customer isable       0   \n",
       "2    cool that views going or of psburgh skyline the      1   \n",
       "3                                    you was!..           1   \n",
       "4             them- food oh nasty food oh terrible!!      0   \n",
       "\n",
       "                                      plain_r_pred1  \\\n",
       "0                   highly recommend this out         \n",
       "1   only there pizza but customer is. not pizza but   \n",
       "2            tram has going or of psburgh.cool that   \n",
       "3                                      was! ! !       \n",
       "4                    ever food oh food ( - the : i.   \n",
       "\n",
       "                                       plain_r_pred2  \\\n",
       "0   recommend check municip hal municip.doorstics...   \n",
       "1   just is bad Bengals experiments experiments e...   \n",
       "2   tr does views wanting down impression impress...   \n",
       "3             were. gene doors  Keithdoorsdoorsdoors   \n",
       "4         everServ headquartersnm ohServ �Serv was �   \n",
       "\n",
       "                                     plain_r_pred_mp  \n",
       "0                         highly recommend this out   \n",
       "1   only there air, their service horrible horrib...  \n",
       "2                 tram has going or of psburgh.cool.  \n",
       "3                                              was!   \n",
       "4                  ever food oh food ( - the : was i  "
      ]
     },
     "execution_count": 22,
     "metadata": {},
     "output_type": "execute_result"
    }
   ],
   "source": [
    "#clean text to remove tokens\n",
    "pattern = re.compile(\"<END>\")\n",
    "\n",
    "pp1 = []\n",
    "pp2 = []\n",
    "ppm = []\n",
    "bp1 = []\n",
    "bp2 = []\n",
    "bp3 = []\n",
    "cp1 = []\n",
    "cp2 = []\n",
    "cp3 = []\n",
    "#df = df.reset_index()  # make sure indexes pair with number of rows\n",
    "for index, row in df.iterrows():\n",
    "    #print(index)#, row['plain_pred1'])\n",
    "    #print(row['both_3l_pred_mp'])\n",
    "    new_s = clean_text(row['plain_pred1'])\n",
    "    pp1.append(new_s)\n",
    "    new_s = clean_text(row['plain_pred2'])\n",
    "    pp2.append(new_s)\n",
    "    new_s = clean_text(row['plain_pred_mp'])\n",
    "    ppm.append(new_s)\n",
    "    new_s = clean_text(row['both_3l_pred1'])\n",
    "    bp1.append(new_s)\n",
    "    new_s = clean_text(row['both_3l_pred2'])\n",
    "    bp2.append(new_s)\n",
    "    new_s = clean_text(row['both_3l_pred_mp'])\n",
    "    bp3.append(new_s)\n",
    "    new_s = clean_text(row['plain_r_pred1'])\n",
    "    cp1.append(new_s)\n",
    "    new_s = clean_text(row['plain_r_pred2'])\n",
    "    cp2.append(new_s)\n",
    "    new_s = clean_text(row['plain_r_pred_mp'])\n",
    "    cp3.append(new_s)\n",
    "\n",
    "df_clean['plain_pred1'] = pp1\n",
    "df_clean['plain_pred2'] = pp2\n",
    "df_clean['plain_pred_mp'] = ppm\n",
    "\n",
    "df_clean['both_3l_pred1'] = bp1\n",
    "df_clean['both_3l_pred2'] = bp2\n",
    "df_clean['both_3l_pred_mp'] = bp3\n",
    "\n",
    "df_clean['plain_r_pred1'] = cp1\n",
    "df_clean['plain_r_pred2'] = cp2\n",
    "df_clean['plain_r_pred_mp'] = cp3\n",
    "\n",
    "df_clean['label'] = label\n",
    "df_clean.head()"
   ]
  },
  {
   "cell_type": "code",
   "execution_count": 23,
   "metadata": {},
   "outputs": [],
   "source": [
    "df_clean.to_csv('yelp_models/cleaned_preds.csv')"
   ]
  },
  {
   "cell_type": "markdown",
   "metadata": {},
   "source": [
    "# estimating style transfer"
   ]
  },
  {
   "cell_type": "code",
   "execution_count": 5,
   "metadata": {},
   "outputs": [],
   "source": [
    "from transformers import AutoTokenizer\n",
    "from transformers import AutoConfig, TFAutoModelForSequenceClassification"
   ]
  },
  {
   "cell_type": "code",
   "execution_count": 102,
   "metadata": {},
   "outputs": [
    {
     "name": "stderr",
     "output_type": "stream",
     "text": [
      "Some layers from the model checkpoint at spentaur/yelp were not used when initializing TFDistilBertForSequenceClassification: ['dropout_19']\n",
      "- This IS expected if you are initializing TFDistilBertForSequenceClassification from the checkpoint of a model trained on another task or with another architecture (e.g. initializing a BertForSequenceClassification model from a BertForPreTraining model).\n",
      "- This IS NOT expected if you are initializing TFDistilBertForSequenceClassification from the checkpoint of a model that you expect to be exactly identical (initializing a BertForSequenceClassification model from a BertForSequenceClassification model).\n",
      "Some layers of TFDistilBertForSequenceClassification were not initialized from the model checkpoint at spentaur/yelp and are newly initialized: ['dropout_99']\n",
      "You should probably TRAIN this model on a down-stream task to be able to use it for predictions and inference.\n"
     ]
    }
   ],
   "source": [
    "#https://huggingface.co/spentaur/yelp\n",
    "tokenizer = AutoTokenizer.from_pretrained('distilbert-base-uncased', use_fast=True)\n",
    "#tokenizer = GPT2TokenizerFast.from_pretrained(model_id)\n",
    "model = TFAutoModelForSequenceClassification.from_pretrained(\"spentaur/yelp\")"
   ]
  },
  {
   "cell_type": "code",
   "execution_count": 67,
   "metadata": {},
   "outputs": [],
   "source": [
    "cols = ['plain_pred1','plain_pred2','plain_pred_mp','both_3l_pred1','both_3l_pred2','both_3l_pred_mp']\n",
    "\n",
    "def cls_col(col):\n",
    "    p = []\n",
    "    for index, row in df.iterrows():\n",
    "        s = row[col]\n",
    "        input_ids = tokenizer.encode(s, return_tensors='tf')\n",
    "        pred = model(input_ids)[0][0][0].numpy()\n",
    "        p.append(pred)\n",
    "    \n",
    "    al = np.array(p)>1 \n",
    "    al = al.astype(int)\n",
    "    df_clean['cls_'+col] = al\n",
    "    "
   ]
  },
  {
   "cell_type": "code",
   "execution_count": 68,
   "metadata": {},
   "outputs": [
    {
     "data": {
      "text/html": [
       "<div>\n",
       "<style scoped>\n",
       "    .dataframe tbody tr th:only-of-type {\n",
       "        vertical-align: middle;\n",
       "    }\n",
       "\n",
       "    .dataframe tbody tr th {\n",
       "        vertical-align: top;\n",
       "    }\n",
       "\n",
       "    .dataframe thead th {\n",
       "        text-align: right;\n",
       "    }\n",
       "</style>\n",
       "<table border=\"1\" class=\"dataframe\">\n",
       "  <thead>\n",
       "    <tr style=\"text-align: right;\">\n",
       "      <th></th>\n",
       "      <th>gold</th>\n",
       "      <th>content</th>\n",
       "      <th>plain_pred1</th>\n",
       "      <th>plain_pred2</th>\n",
       "      <th>plain_pred_mp</th>\n",
       "      <th>both_3l_pred1</th>\n",
       "      <th>both_3l_pred2</th>\n",
       "      <th>both_3l_pred_mp</th>\n",
       "      <th>label</th>\n",
       "      <th>cls_gold</th>\n",
       "      <th>cls_plain_pred1</th>\n",
       "      <th>cls_plain_pred2</th>\n",
       "      <th>cls_plain_pred_mp</th>\n",
       "      <th>cls_both_3l_pred1</th>\n",
       "      <th>cls_both_3l_pred2</th>\n",
       "      <th>cls_both_3l_pred_mp</th>\n",
       "    </tr>\n",
       "  </thead>\n",
       "  <tbody>\n",
       "    <tr>\n",
       "      <th>0</th>\n",
       "      <td>i highly recommend checking this place out.</td>\n",
       "      <td>highly</td>\n",
       "      <td>highly highly checking place. highly highly t...</td>\n",
       "      <td>recommenditageitageitageitageitageitageitagei...</td>\n",
       "      <td>highly highly checking place. highly highly t...</td>\n",
       "      <td>recommend this out.itage actorsigaitage love ...</td>\n",
       "      <td>definitely brushelled highly. highly recommen...</td>\n",
       "      <td>recommend this out you. main mindiquette love...</td>\n",
       "      <td>1</td>\n",
       "      <td>1</td>\n",
       "      <td>1</td>\n",
       "      <td>0</td>\n",
       "      <td>1</td>\n",
       "      <td>1</td>\n",
       "      <td>1</td>\n",
       "      <td>1</td>\n",
       "    </tr>\n",
       "    <tr>\n",
       "      <th>1</th>\n",
       "      <td>not only is there pizza bad, but their custome...</td>\n",
       "      <td>bad horrible</td>\n",
       "      <td>only is pizza but customer is. Kurd not is</td>\n",
       "      <td>even there qualified, wantingetooth wanting w...</td>\n",
       "      <td>only is pizza, their service horrible horrible.</td>\n",
       "      <td>also there'); is pizza but customer is..</td>\n",
       "      <td>only is pizza mit decrease collective decreas...</td>\n",
       "      <td>also there is pizza but customer isable</td>\n",
       "      <td>0</td>\n",
       "      <td>0</td>\n",
       "      <td>0</td>\n",
       "      <td>0</td>\n",
       "      <td>0</td>\n",
       "      <td>0</td>\n",
       "      <td>1</td>\n",
       "      <td>0</td>\n",
       "    </tr>\n",
       "    <tr>\n",
       "      <th>2</th>\n",
       "      <td>cool tram that has great views going up or dow...</td>\n",
       "      <td>great</td>\n",
       "      <td>tram has views up down down theitt extended e...</td>\n",
       "      <td>cool always great Mayor MayorGood Mayor pesti...</td>\n",
       "      <td>ixed tram has going or of psburgh skyline</td>\n",
       "      <td>great tram has views up down down the of p</td>\n",
       "      <td>cool Mayor Mayor MayorGood or hotel down pestial</td>\n",
       "      <td>cool that views going or of psburgh skyline the</td>\n",
       "      <td>1</td>\n",
       "      <td>1</td>\n",
       "      <td>0</td>\n",
       "      <td>1</td>\n",
       "      <td>0</td>\n",
       "      <td>1</td>\n",
       "      <td>0</td>\n",
       "      <td>1</td>\n",
       "    </tr>\n",
       "    <tr>\n",
       "      <th>3</th>\n",
       "      <td>she was fantastic!</td>\n",
       "      <td>fantastic</td>\n",
       "      <td>was!she amazing Kurd!she amazing Kurd Kurd</td>\n",
       "      <td>she! Kurd scarthink Quebecthink awesome fogthink</td>\n",
       "      <td>was!she phenomenal</td>\n",
       "      <td>was!she was! gene! Kurd was!</td>\n",
       "      <td>she. she scar. Kurd actors gene!doors</td>\n",
       "      <td>you was!..</td>\n",
       "      <td>1</td>\n",
       "      <td>1</td>\n",
       "      <td>1</td>\n",
       "      <td>1</td>\n",
       "      <td>1</td>\n",
       "      <td>1</td>\n",
       "      <td>0</td>\n",
       "      <td>1</td>\n",
       "    </tr>\n",
       "    <tr>\n",
       "      <th>4</th>\n",
       "      <td>however the food - oh the food : ( - i was dis...</td>\n",
       "      <td>disappointed</td>\n",
       "      <td>ever food oh food ( - i disappointed disappoin...</td>\n",
       "      <td>ever thearia the bad i - scar forecast disapp...</td>\n",
       "      <td>ever food oh food food disgusting ( i sgy</td>\n",
       "      <td>the - the : - food i i WAR.</td>\n",
       "      <td>love food Montgomery Montgomery i tempor temp...</td>\n",
       "      <td>them- food oh nasty food oh terrible!!</td>\n",
       "      <td>0</td>\n",
       "      <td>0</td>\n",
       "      <td>0</td>\n",
       "      <td>0</td>\n",
       "      <td>0</td>\n",
       "      <td>0</td>\n",
       "      <td>1</td>\n",
       "      <td>0</td>\n",
       "    </tr>\n",
       "  </tbody>\n",
       "</table>\n",
       "</div>"
      ],
      "text/plain": [
       "                                                gold       content  \\\n",
       "0        i highly recommend checking this place out.        highly   \n",
       "1  not only is there pizza bad, but their custome...  bad horrible   \n",
       "2  cool tram that has great views going up or dow...         great   \n",
       "3                                 she was fantastic!     fantastic   \n",
       "4  however the food - oh the food : ( - i was dis...  disappointed   \n",
       "\n",
       "                                         plain_pred1  \\\n",
       "0   highly highly checking place. highly highly t...   \n",
       "1         only is pizza but customer is. Kurd not is   \n",
       "2   tram has views up down down theitt extended e...   \n",
       "3         was!she amazing Kurd!she amazing Kurd Kurd   \n",
       "4  ever food oh food ( - i disappointed disappoin...   \n",
       "\n",
       "                                         plain_pred2  \\\n",
       "0   recommenditageitageitageitageitageitageitagei...   \n",
       "1   even there qualified, wantingetooth wanting w...   \n",
       "2   cool always great Mayor MayorGood Mayor pesti...   \n",
       "3   she! Kurd scarthink Quebecthink awesome fogthink   \n",
       "4   ever thearia the bad i - scar forecast disapp...   \n",
       "\n",
       "                                       plain_pred_mp  \\\n",
       "0   highly highly checking place. highly highly t...   \n",
       "1   only is pizza, their service horrible horrible.    \n",
       "2         ixed tram has going or of psburgh skyline    \n",
       "3                                was!she phenomenal    \n",
       "4          ever food oh food food disgusting ( i sgy   \n",
       "\n",
       "                                       both_3l_pred1  \\\n",
       "0   recommend this out.itage actorsigaitage love ...   \n",
       "1           also there'); is pizza but customer is..   \n",
       "2         great tram has views up down down the of p   \n",
       "3                       was!she was! gene! Kurd was!   \n",
       "4                        the - the : - food i i WAR.   \n",
       "\n",
       "                                       both_3l_pred2  \\\n",
       "0   definitely brushelled highly. highly recommen...   \n",
       "1   only is pizza mit decrease collective decreas...   \n",
       "2   cool Mayor Mayor MayorGood or hotel down pestial   \n",
       "3              she. she scar. Kurd actors gene!doors   \n",
       "4   love food Montgomery Montgomery i tempor temp...   \n",
       "\n",
       "                                     both_3l_pred_mp  label  cls_gold  \\\n",
       "0   recommend this out you. main mindiquette love...      1         1   \n",
       "1           also there is pizza but customer isable       0         0   \n",
       "2    cool that views going or of psburgh skyline the      1         1   \n",
       "3                                    you was!..           1         1   \n",
       "4             them- food oh nasty food oh terrible!!      0         0   \n",
       "\n",
       "   cls_plain_pred1  cls_plain_pred2  cls_plain_pred_mp  cls_both_3l_pred1  \\\n",
       "0                1                0                  1                  1   \n",
       "1                0                0                  0                  0   \n",
       "2                0                1                  0                  1   \n",
       "3                1                1                  1                  1   \n",
       "4                0                0                  0                  0   \n",
       "\n",
       "   cls_both_3l_pred2  cls_both_3l_pred_mp  \n",
       "0                  1                    1  \n",
       "1                  1                    0  \n",
       "2                  0                    1  \n",
       "3                  0                    1  \n",
       "4                  1                    0  "
      ]
     },
     "execution_count": 68,
     "metadata": {},
     "output_type": "execute_result"
    }
   ],
   "source": [
    "for col in cols:\n",
    "    cls_col(col)\n",
    "df_clean.head()"
   ]
  },
  {
   "cell_type": "code",
   "execution_count": 64,
   "metadata": {},
   "outputs": [],
   "source": [
    "al = al.astype(int)"
   ]
  },
  {
   "cell_type": "code",
   "execution_count": 65,
   "metadata": {},
   "outputs": [
    {
     "data": {
      "text/plain": [
       "array([1, 0, 1, 1, 0, 1, 1, 0, 1, 1, 0, 1, 1, 1, 0, 1, 1, 0, 1, 1, 0, 0,\n",
       "       1, 1, 0, 0, 1, 0, 1, 1, 1, 1])"
      ]
     },
     "execution_count": 65,
     "metadata": {},
     "output_type": "execute_result"
    }
   ],
   "source": [
    "df_clean['cls_gold'] = al"
   ]
  },
  {
   "cell_type": "code",
   "execution_count": 81,
   "metadata": {},
   "outputs": [],
   "source": [
    "from transformers_cocon import (AdamW,GPT2Config,GPT2LMHeadModel,GPT2Tokenizer,\n",
    "                                         PreTrainedModel,PreTrainedTokenizer,get_linear_schedule_with_warmup,\n",
    "                                         CoconBlock,HDiscriminator)"
   ]
  },
  {
   "cell_type": "code",
   "execution_count": 82,
   "metadata": {},
   "outputs": [],
   "source": [
    "tokenizer = GPT2Tokenizer.from_pretrained('gpt2')"
   ]
  },
  {
   "cell_type": "markdown",
   "metadata": {},
   "source": [
    "# cleaned text"
   ]
  },
  {
   "cell_type": "code",
   "execution_count": null,
   "metadata": {},
   "outputs": [],
   "source": [
    "# Removed tokens and 'Kurd' word"
   ]
  },
  {
   "cell_type": "code",
   "execution_count": 3,
   "metadata": {},
   "outputs": [
    {
     "data": {
      "text/html": [
       "<div>\n",
       "<style scoped>\n",
       "    .dataframe tbody tr th:only-of-type {\n",
       "        vertical-align: middle;\n",
       "    }\n",
       "\n",
       "    .dataframe tbody tr th {\n",
       "        vertical-align: top;\n",
       "    }\n",
       "\n",
       "    .dataframe thead th {\n",
       "        text-align: right;\n",
       "    }\n",
       "</style>\n",
       "<table border=\"1\" class=\"dataframe\">\n",
       "  <thead>\n",
       "    <tr style=\"text-align: right;\">\n",
       "      <th></th>\n",
       "      <th>gold</th>\n",
       "      <th>content</th>\n",
       "      <th>plain_pred1</th>\n",
       "      <th>plain_pred2</th>\n",
       "      <th>plain_pred_mp</th>\n",
       "      <th>both_3l_pred1</th>\n",
       "      <th>both_3l_pred2</th>\n",
       "      <th>both_3l_pred_mp</th>\n",
       "      <th>label</th>\n",
       "      <th>plain_r_pred1</th>\n",
       "      <th>plain_r_pred2</th>\n",
       "      <th>plain_r_pred_mp</th>\n",
       "    </tr>\n",
       "  </thead>\n",
       "  <tbody>\n",
       "    <tr>\n",
       "      <th>0</th>\n",
       "      <td>i highly recommend checking this place out.</td>\n",
       "      <td>highly</td>\n",
       "      <td>highly highly checking place. highly highly t...</td>\n",
       "      <td>recommenditageitageitageitageitageitageitagei...</td>\n",
       "      <td>highly highly checking place. highly highly t...</td>\n",
       "      <td>recommend this out.itage actorsigaitage love ...</td>\n",
       "      <td>definitely brushelled highly. highly recommen...</td>\n",
       "      <td>recommend this out you. main mindiquette love...</td>\n",
       "      <td>1</td>\n",
       "      <td>highly recommend this out</td>\n",
       "      <td>recommend check municip hal municip.doorstics...</td>\n",
       "      <td>highly recommend this out</td>\n",
       "    </tr>\n",
       "    <tr>\n",
       "      <th>1</th>\n",
       "      <td>not only is there pizza bad, but their custome...</td>\n",
       "      <td>bad horrible</td>\n",
       "      <td>only is pizza but customer is.  not is</td>\n",
       "      <td>even there qualified, wantingetooth wanting w...</td>\n",
       "      <td>only is pizza, their service horrible horrible.</td>\n",
       "      <td>also there'); is pizza but customer is..</td>\n",
       "      <td>only is pizza mit decrease collective decreas...</td>\n",
       "      <td>also there is pizza but customer isable</td>\n",
       "      <td>0</td>\n",
       "      <td>only there pizza but customer is. not pizza but</td>\n",
       "      <td>just is bad Bengals experiments experiments e...</td>\n",
       "      <td>only there air, their service horrible horrib...</td>\n",
       "    </tr>\n",
       "    <tr>\n",
       "      <th>2</th>\n",
       "      <td>cool tram that has great views going up or dow...</td>\n",
       "      <td>great</td>\n",
       "      <td>tram has views up down down theitt extended e...</td>\n",
       "      <td>cool always great Mayor MayorGood Mayor pesti...</td>\n",
       "      <td>ixed tram has going or of psburgh skyline</td>\n",
       "      <td>great tram has views up down down the of p</td>\n",
       "      <td>cool Mayor Mayor MayorGood or hotel down pestial</td>\n",
       "      <td>cool that views going or of psburgh skyline the</td>\n",
       "      <td>1</td>\n",
       "      <td>tram has going or of psburgh.cool that</td>\n",
       "      <td>tr does views wanting down impression impress...</td>\n",
       "      <td>tram has going or of psburgh.cool.</td>\n",
       "    </tr>\n",
       "    <tr>\n",
       "      <th>3</th>\n",
       "      <td>she was fantastic!</td>\n",
       "      <td>fantastic</td>\n",
       "      <td>was!she amazing !she amazing</td>\n",
       "      <td>she!  scarthink Quebecthink awesome fogthink</td>\n",
       "      <td>was!she phenomenal</td>\n",
       "      <td>was!she was! gene!  was!</td>\n",
       "      <td>she. she scar.  actors gene!doors</td>\n",
       "      <td>you was!..</td>\n",
       "      <td>1</td>\n",
       "      <td>was! ! !</td>\n",
       "      <td>were. gene doors  Keithdoorsdoorsdoors</td>\n",
       "      <td>was!</td>\n",
       "    </tr>\n",
       "    <tr>\n",
       "      <th>4</th>\n",
       "      <td>however the food - oh the food : ( - i was dis...</td>\n",
       "      <td>disappointed</td>\n",
       "      <td>ever food oh food ( - i disappointed disappoin...</td>\n",
       "      <td>ever thearia the bad i - scar forecast disapp...</td>\n",
       "      <td>ever food oh food food disgusting ( i sgy</td>\n",
       "      <td>the - the : - food i i WAR.</td>\n",
       "      <td>love food Montgomery Montgomery i tempor temp...</td>\n",
       "      <td>them- food oh nasty food oh terrible!!</td>\n",
       "      <td>0</td>\n",
       "      <td>ever food oh food ( - the : i.</td>\n",
       "      <td>everServ headquartersnm ohServ �Serv was �</td>\n",
       "      <td>ever food oh food ( - the : was i</td>\n",
       "    </tr>\n",
       "  </tbody>\n",
       "</table>\n",
       "</div>"
      ],
      "text/plain": [
       "                                                gold       content  \\\n",
       "0        i highly recommend checking this place out.        highly   \n",
       "1  not only is there pizza bad, but their custome...  bad horrible   \n",
       "2  cool tram that has great views going up or dow...         great   \n",
       "3                                 she was fantastic!     fantastic   \n",
       "4  however the food - oh the food : ( - i was dis...  disappointed   \n",
       "\n",
       "                                         plain_pred1  \\\n",
       "0   highly highly checking place. highly highly t...   \n",
       "1             only is pizza but customer is.  not is   \n",
       "2   tram has views up down down theitt extended e...   \n",
       "3                     was!she amazing !she amazing     \n",
       "4  ever food oh food ( - i disappointed disappoin...   \n",
       "\n",
       "                                         plain_pred2  \\\n",
       "0   recommenditageitageitageitageitageitageitagei...   \n",
       "1   even there qualified, wantingetooth wanting w...   \n",
       "2   cool always great Mayor MayorGood Mayor pesti...   \n",
       "3       she!  scarthink Quebecthink awesome fogthink   \n",
       "4   ever thearia the bad i - scar forecast disapp...   \n",
       "\n",
       "                                       plain_pred_mp  \\\n",
       "0   highly highly checking place. highly highly t...   \n",
       "1   only is pizza, their service horrible horrible.    \n",
       "2         ixed tram has going or of psburgh skyline    \n",
       "3                                was!she phenomenal    \n",
       "4          ever food oh food food disgusting ( i sgy   \n",
       "\n",
       "                                       both_3l_pred1  \\\n",
       "0   recommend this out.itage actorsigaitage love ...   \n",
       "1           also there'); is pizza but customer is..   \n",
       "2         great tram has views up down down the of p   \n",
       "3                           was!she was! gene!  was!   \n",
       "4                        the - the : - food i i WAR.   \n",
       "\n",
       "                                       both_3l_pred2  \\\n",
       "0   definitely brushelled highly. highly recommen...   \n",
       "1   only is pizza mit decrease collective decreas...   \n",
       "2   cool Mayor Mayor MayorGood or hotel down pestial   \n",
       "3                  she. she scar.  actors gene!doors   \n",
       "4   love food Montgomery Montgomery i tempor temp...   \n",
       "\n",
       "                                     both_3l_pred_mp  label  \\\n",
       "0   recommend this out you. main mindiquette love...      1   \n",
       "1           also there is pizza but customer isable       0   \n",
       "2    cool that views going or of psburgh skyline the      1   \n",
       "3                                    you was!..           1   \n",
       "4             them- food oh nasty food oh terrible!!      0   \n",
       "\n",
       "                                      plain_r_pred1  \\\n",
       "0                   highly recommend this out         \n",
       "1   only there pizza but customer is. not pizza but   \n",
       "2            tram has going or of psburgh.cool that   \n",
       "3                                      was! ! !       \n",
       "4                    ever food oh food ( - the : i.   \n",
       "\n",
       "                                       plain_r_pred2  \\\n",
       "0   recommend check municip hal municip.doorstics...   \n",
       "1   just is bad Bengals experiments experiments e...   \n",
       "2   tr does views wanting down impression impress...   \n",
       "3             were. gene doors  Keithdoorsdoorsdoors   \n",
       "4         everServ headquartersnm ohServ �Serv was �   \n",
       "\n",
       "                                     plain_r_pred_mp  \n",
       "0                         highly recommend this out   \n",
       "1   only there air, their service horrible horrib...  \n",
       "2                 tram has going or of psburgh.cool.  \n",
       "3                                              was!   \n",
       "4                  ever food oh food ( - the : was i  "
      ]
     },
     "execution_count": 3,
     "metadata": {},
     "output_type": "execute_result"
    }
   ],
   "source": [
    "import pandas as pd\n",
    "df = pd.read_csv('yelp_models/cleaned_preds.csv')\n",
    "df.head()"
   ]
  },
  {
   "cell_type": "code",
   "execution_count": 3,
   "metadata": {},
   "outputs": [
    {
     "data": {
      "text/plain": [
       "Index(['gold', 'content', 'plain_pred1', 'plain_pred2', 'plain_pred_mp',\n",
       "       'both_3l_pred1', 'both_3l_pred2', 'both_3l_pred_mp', 'label',\n",
       "       'plain_r_pred1', 'plain_r_pred2', 'plain_r_pred_mp'],\n",
       "      dtype='object')"
      ]
     },
     "execution_count": 3,
     "metadata": {},
     "output_type": "execute_result"
    }
   ],
   "source": [
    "df.columns"
   ]
  },
  {
   "cell_type": "code",
   "execution_count": 12,
   "metadata": {},
   "outputs": [
    {
     "data": {
      "text/html": [
       "<div>\n",
       "<style scoped>\n",
       "    .dataframe tbody tr th:only-of-type {\n",
       "        vertical-align: middle;\n",
       "    }\n",
       "\n",
       "    .dataframe tbody tr th {\n",
       "        vertical-align: top;\n",
       "    }\n",
       "\n",
       "    .dataframe thead th {\n",
       "        text-align: right;\n",
       "    }\n",
       "</style>\n",
       "<table border=\"1\" class=\"dataframe\">\n",
       "  <thead>\n",
       "    <tr style=\"text-align: right;\">\n",
       "      <th></th>\n",
       "      <th>gold</th>\n",
       "      <th>plain_pred_mp</th>\n",
       "      <th>label</th>\n",
       "    </tr>\n",
       "  </thead>\n",
       "  <tbody>\n",
       "    <tr>\n",
       "      <th>0</th>\n",
       "      <td>i highly recommend checking this place out.</td>\n",
       "      <td>highly highly checking place. highly highly t...</td>\n",
       "      <td>1</td>\n",
       "    </tr>\n",
       "    <tr>\n",
       "      <th>1</th>\n",
       "      <td>not only is there pizza bad, but their custome...</td>\n",
       "      <td>only is pizza, their service horrible horrible.</td>\n",
       "      <td>0</td>\n",
       "    </tr>\n",
       "    <tr>\n",
       "      <th>2</th>\n",
       "      <td>cool tram that has great views going up or dow...</td>\n",
       "      <td>ixed tram has going or of psburgh skyline</td>\n",
       "      <td>1</td>\n",
       "    </tr>\n",
       "    <tr>\n",
       "      <th>3</th>\n",
       "      <td>she was fantastic!</td>\n",
       "      <td>was!she phenomenal</td>\n",
       "      <td>1</td>\n",
       "    </tr>\n",
       "    <tr>\n",
       "      <th>4</th>\n",
       "      <td>however the food - oh the food : ( - i was dis...</td>\n",
       "      <td>ever food oh food food disgusting ( i sgy</td>\n",
       "      <td>0</td>\n",
       "    </tr>\n",
       "  </tbody>\n",
       "</table>\n",
       "</div>"
      ],
      "text/plain": [
       "                                                gold  \\\n",
       "0        i highly recommend checking this place out.   \n",
       "1  not only is there pizza bad, but their custome...   \n",
       "2  cool tram that has great views going up or dow...   \n",
       "3                                 she was fantastic!   \n",
       "4  however the food - oh the food : ( - i was dis...   \n",
       "\n",
       "                                       plain_pred_mp  label  \n",
       "0   highly highly checking place. highly highly t...      1  \n",
       "1   only is pizza, their service horrible horrible.       0  \n",
       "2         ixed tram has going or of psburgh skyline       1  \n",
       "3                                was!she phenomenal       1  \n",
       "4          ever food oh food food disgusting ( i sgy      0  "
      ]
     },
     "execution_count": 12,
     "metadata": {},
     "output_type": "execute_result"
    }
   ],
   "source": [
    "df_sub1 = df[['gold','plain_pred_mp','label']]\n",
    "df_sub1.head()"
   ]
  },
  {
   "cell_type": "code",
   "execution_count": 14,
   "metadata": {},
   "outputs": [
    {
     "name": "stderr",
     "output_type": "stream",
     "text": [
      "c:\\users\\aishu\\miniconda\\lib\\site-packages\\ipykernel_launcher.py:1: SettingWithCopyWarning: \n",
      "A value is trying to be set on a copy of a slice from a DataFrame.\n",
      "Try using .loc[row_indexer,col_indexer] = value instead\n",
      "\n",
      "See the caveats in the documentation: https://pandas.pydata.org/pandas-docs/stable/user_guide/indexing.html#returning-a-view-versus-a-copy\n",
      "  \"\"\"Entry point for launching an IPython kernel.\n"
     ]
    }
   ],
   "source": [
    "df_sub1['label_gold'] = [int(model(tokenizer.encode(review, return_tensors='tf'))[0][0][0].numpy()>0) for review in df_sub1['gold'].to_list()]"
   ]
  },
  {
   "cell_type": "code",
   "execution_count": 53,
   "metadata": {},
   "outputs": [
    {
     "data": {
      "text/html": [
       "<div>\n",
       "<style scoped>\n",
       "    .dataframe tbody tr th:only-of-type {\n",
       "        vertical-align: middle;\n",
       "    }\n",
       "\n",
       "    .dataframe tbody tr th {\n",
       "        vertical-align: top;\n",
       "    }\n",
       "\n",
       "    .dataframe thead th {\n",
       "        text-align: right;\n",
       "    }\n",
       "</style>\n",
       "<table border=\"1\" class=\"dataframe\">\n",
       "  <thead>\n",
       "    <tr style=\"text-align: right;\">\n",
       "      <th></th>\n",
       "      <th>gold</th>\n",
       "      <th>plain_pred_mp</th>\n",
       "      <th>label</th>\n",
       "      <th>label_gold</th>\n",
       "      <th>label_ppmp</th>\n",
       "      <th>cosine_similarity</th>\n",
       "    </tr>\n",
       "  </thead>\n",
       "  <tbody>\n",
       "    <tr>\n",
       "      <th>0</th>\n",
       "      <td>i highly recommend checking this place out.</td>\n",
       "      <td>highly highly checking place. highly highly t...</td>\n",
       "      <td>1</td>\n",
       "      <td>1</td>\n",
       "      <td>1</td>\n",
       "      <td>0.634</td>\n",
       "    </tr>\n",
       "    <tr>\n",
       "      <th>1</th>\n",
       "      <td>not only is there pizza bad, but their custome...</td>\n",
       "      <td>only is pizza, their service horrible horrible.</td>\n",
       "      <td>0</td>\n",
       "      <td>0</td>\n",
       "      <td>0</td>\n",
       "      <td>0.884</td>\n",
       "    </tr>\n",
       "    <tr>\n",
       "      <th>2</th>\n",
       "      <td>cool tram that has great views going up or dow...</td>\n",
       "      <td>ixed tram has going or of psburgh skyline</td>\n",
       "      <td>1</td>\n",
       "      <td>1</td>\n",
       "      <td>1</td>\n",
       "      <td>0.680</td>\n",
       "    </tr>\n",
       "    <tr>\n",
       "      <th>3</th>\n",
       "      <td>she was fantastic!</td>\n",
       "      <td>was!she phenomenal</td>\n",
       "      <td>1</td>\n",
       "      <td>1</td>\n",
       "      <td>1</td>\n",
       "      <td>0.777</td>\n",
       "    </tr>\n",
       "    <tr>\n",
       "      <th>4</th>\n",
       "      <td>however the food - oh the food : ( - i was dis...</td>\n",
       "      <td>ever food oh food food disgusting ( i sgy</td>\n",
       "      <td>0</td>\n",
       "      <td>0</td>\n",
       "      <td>0</td>\n",
       "      <td>0.494</td>\n",
       "    </tr>\n",
       "  </tbody>\n",
       "</table>\n",
       "</div>"
      ],
      "text/plain": [
       "                                                gold  \\\n",
       "0        i highly recommend checking this place out.   \n",
       "1  not only is there pizza bad, but their custome...   \n",
       "2  cool tram that has great views going up or dow...   \n",
       "3                                 she was fantastic!   \n",
       "4  however the food - oh the food : ( - i was dis...   \n",
       "\n",
       "                                       plain_pred_mp  label  label_gold  \\\n",
       "0   highly highly checking place. highly highly t...      1           1   \n",
       "1   only is pizza, their service horrible horrible.       0           0   \n",
       "2         ixed tram has going or of psburgh skyline       1           1   \n",
       "3                                was!she phenomenal       1           1   \n",
       "4          ever food oh food food disgusting ( i sgy      0           0   \n",
       "\n",
       "   label_ppmp  cosine_similarity  \n",
       "0           1              0.634  \n",
       "1           0              0.884  \n",
       "2           1              0.680  \n",
       "3           1              0.777  \n",
       "4           0              0.494  "
      ]
     },
     "execution_count": 53,
     "metadata": {},
     "output_type": "execute_result"
    }
   ],
   "source": [
    "df_sub1.head()"
   ]
  },
  {
   "cell_type": "code",
   "execution_count": 54,
   "metadata": {},
   "outputs": [
    {
     "data": {
      "text/plain": [
       "0.6123750000000001"
      ]
     },
     "execution_count": 54,
     "metadata": {},
     "output_type": "execute_result"
    }
   ],
   "source": [
    "df_sub1['cosine_similarity'].mean()"
   ]
  },
  {
   "cell_type": "code",
   "execution_count": 22,
   "metadata": {},
   "outputs": [
    {
     "data": {
      "text/plain": [
       "100.0"
      ]
     },
     "execution_count": 22,
     "metadata": {},
     "output_type": "execute_result"
    }
   ],
   "source": [
    "100*(df_sub1['label_gold']  == df_sub1['label']).sum()/len(df_sub1) #MATCHES 100%"
   ]
  },
  {
   "cell_type": "code",
   "execution_count": 91,
   "metadata": {},
   "outputs": [
    {
     "data": {
      "text/plain": [
       "81.25"
      ]
     },
     "execution_count": 91,
     "metadata": {},
     "output_type": "execute_result"
    }
   ],
   "source": [
    "temp = [int(model(tokenizer.encode(review, return_tensors='tf'))[0][0][0].numpy()>0) for review in df['both_3l_pred_mp'].to_list()]\n",
    "100*(df['label']  == temp).sum()/len(df) #96.875 MATCH style transfer"
   ]
  },
  {
   "cell_type": "code",
   "execution_count": 17,
   "metadata": {},
   "outputs": [
    {
     "name": "stderr",
     "output_type": "stream",
     "text": [
      "c:\\users\\aishu\\miniconda\\lib\\site-packages\\ipykernel_launcher.py:1: SettingWithCopyWarning: \n",
      "A value is trying to be set on a copy of a slice from a DataFrame.\n",
      "Try using .loc[row_indexer,col_indexer] = value instead\n",
      "\n",
      "See the caveats in the documentation: https://pandas.pydata.org/pandas-docs/stable/user_guide/indexing.html#returning-a-view-versus-a-copy\n",
      "  \"\"\"Entry point for launching an IPython kernel.\n"
     ]
    }
   ],
   "source": [
    "df_sub1['label_ppmp'] = [int(model(tokenizer.encode(review, return_tensors='tf'))[0][0][0].numpy()>0) for review in df_sub1['plain_pred_mp'].to_list()]"
   ]
  },
  {
   "cell_type": "code",
   "execution_count": 21,
   "metadata": {},
   "outputs": [
    {
     "data": {
      "text/plain": [
       "96.875"
      ]
     },
     "execution_count": 21,
     "metadata": {},
     "output_type": "execute_result"
    }
   ],
   "source": [
    "100*(df_sub1['label']  == df_sub1['label_ppmp']).sum()/len(df_sub1) #96.875 MATCH style transfer"
   ]
  },
  {
   "cell_type": "markdown",
   "metadata": {},
   "source": [
    "# load sentence similarity to evaluate content preservation"
   ]
  },
  {
   "cell_type": "code",
   "execution_count": 25,
   "metadata": {
    "collapsed": true
   },
   "outputs": [
    {
     "name": "stdout",
     "output_type": "stream",
     "text": [
      "Requirement already up-to-date: sentence-transformers in c:\\users\\aishu\\miniconda\\lib\\site-packages (2.2.0)\n",
      "Requirement already satisfied, skipping upgrade: tqdm in c:\\users\\aishu\\miniconda\\lib\\site-packages (from sentence-transformers) (4.63.1)\n",
      "Requirement already satisfied, skipping upgrade: huggingface-hub in c:\\users\\aishu\\miniconda\\lib\\site-packages (from sentence-transformers) (0.4.0)\n",
      "Requirement already satisfied, skipping upgrade: scikit-learn in c:\\users\\aishu\\appdata\\roaming\\python\\python37\\site-packages (from sentence-transformers) (0.23.2)\n",
      "Requirement already satisfied, skipping upgrade: scipy in c:\\users\\aishu\\appdata\\roaming\\python\\python37\\site-packages (from sentence-transformers) (1.4.1)\n",
      "Requirement already satisfied, skipping upgrade: numpy in c:\\users\\aishu\\miniconda\\lib\\site-packages (from sentence-transformers) (1.21.5)\n",
      "Requirement already satisfied, skipping upgrade: torch>=1.6.0 in c:\\users\\aishu\\miniconda\\lib\\site-packages (from sentence-transformers) (1.11.0)\n",
      "Requirement already satisfied, skipping upgrade: sentencepiece in c:\\users\\aishu\\miniconda\\lib\\site-packages (from sentence-transformers) (0.1.91)\n",
      "Requirement already satisfied, skipping upgrade: transformers<5.0.0,>=4.6.0 in c:\\users\\aishu\\miniconda\\lib\\site-packages (from sentence-transformers) (4.17.0)\n",
      "Requirement already satisfied, skipping upgrade: nltk in c:\\users\\aishu\\appdata\\roaming\\python\\python37\\site-packages (from sentence-transformers) (3.5)\n",
      "Requirement already satisfied, skipping upgrade: torchvision in c:\\users\\aishu\\miniconda\\lib\\site-packages (from sentence-transformers) (0.8.1+cpu)\n",
      "Requirement already satisfied, skipping upgrade: colorama; platform_system == \"Windows\" in c:\\users\\aishu\\miniconda\\lib\\site-packages (from tqdm->sentence-transformers) (0.4.3)\n",
      "Requirement already satisfied, skipping upgrade: filelock in c:\\users\\aishu\\miniconda\\lib\\site-packages (from huggingface-hub->sentence-transformers) (3.0.12)\n",
      "Requirement already satisfied, skipping upgrade: importlib-metadata; python_version < \"3.8\" in c:\\users\\aishu\\miniconda\\lib\\site-packages (from huggingface-hub->sentence-transformers) (1.7.0)\n",
      "Requirement already satisfied, skipping upgrade: pyyaml in c:\\users\\aishu\\miniconda\\lib\\site-packages (from huggingface-hub->sentence-transformers) (6.0)\n",
      "Collecting packaging>=20.9\n",
      "  Downloading packaging-21.3-py3-none-any.whl (40 kB)\n",
      "Requirement already satisfied, skipping upgrade: typing-extensions>=3.7.4.3 in c:\\users\\aishu\\miniconda\\lib\\site-packages (from huggingface-hub->sentence-transformers) (3.7.4.3)\n",
      "Requirement already satisfied, skipping upgrade: requests in c:\\users\\aishu\\miniconda\\lib\\site-packages (from huggingface-hub->sentence-transformers) (2.24.0)\n",
      "Requirement already satisfied, skipping upgrade: joblib>=0.11 in c:\\users\\aishu\\appdata\\roaming\\python\\python37\\site-packages (from scikit-learn->sentence-transformers) (0.17.0)\n",
      "Requirement already satisfied, skipping upgrade: threadpoolctl>=2.0.0 in c:\\users\\aishu\\appdata\\roaming\\python\\python37\\site-packages (from scikit-learn->sentence-transformers) (2.1.0)\n",
      "Requirement already satisfied, skipping upgrade: tokenizers!=0.11.3,>=0.11.1 in c:\\users\\aishu\\miniconda\\lib\\site-packages (from transformers<5.0.0,>=4.6.0->sentence-transformers) (0.11.6)\n",
      "Requirement already satisfied, skipping upgrade: regex!=2019.12.17 in c:\\users\\aishu\\appdata\\roaming\\python\\python37\\site-packages (from transformers<5.0.0,>=4.6.0->sentence-transformers) (2020.11.13)\n",
      "Requirement already satisfied, skipping upgrade: sacremoses in c:\\users\\aishu\\miniconda\\lib\\site-packages (from transformers<5.0.0,>=4.6.0->sentence-transformers) (0.0.43)"
     ]
    },
    {
     "name": "stderr",
     "output_type": "stream",
     "text": [
      "ERROR: After October 2020 you may experience errors when installing or updating packages. This is because pip will change the way that it resolves dependency conflicts.\n",
      "\n",
      "We recommend you use --use-feature=2020-resolver to test your packages with the new resolver before it becomes the default.\n",
      "\n",
      "pytorch-lightning 1.6.0 requires typing-extensions>=4.0.0, but you'll have typing-extensions 3.7.4.3 which is incompatible.\n",
      "WARNING: You are using pip version 20.2.3; however, version 22.0.4 is available.\n",
      "You should consider upgrading via the 'c:\\users\\aishu\\miniconda\\python.exe -m pip install --upgrade pip' command.\n"
     ]
    },
    {
     "name": "stdout",
     "output_type": "stream",
     "text": [
      "\n",
      "Requirement already satisfied, skipping upgrade: click in c:\\users\\aishu\\appdata\\roaming\\python\\python37\\site-packages (from nltk->sentence-transformers) (7.1.2)\n",
      "Requirement already satisfied, skipping upgrade: pillow>=4.1.1 in c:\\users\\aishu\\miniconda\\lib\\site-packages (from torchvision->sentence-transformers) (7.0.0)\n",
      "Requirement already satisfied, skipping upgrade: zipp>=0.5 in c:\\users\\aishu\\miniconda\\lib\\site-packages (from importlib-metadata; python_version < \"3.8\"->huggingface-hub->sentence-transformers) (3.1.0)\n",
      "Requirement already satisfied, skipping upgrade: pyparsing!=3.0.5,>=2.0.2 in c:\\users\\aishu\\miniconda\\lib\\site-packages (from packaging>=20.9->huggingface-hub->sentence-transformers) (2.4.7)\n",
      "Requirement already satisfied, skipping upgrade: chardet<4,>=3.0.2 in c:\\users\\aishu\\miniconda\\lib\\site-packages (from requests->huggingface-hub->sentence-transformers) (3.0.4)\n",
      "Requirement already satisfied, skipping upgrade: urllib3!=1.25.0,!=1.25.1,<1.26,>=1.21.1 in c:\\users\\aishu\\miniconda\\lib\\site-packages (from requests->huggingface-hub->sentence-transformers) (1.25.10)\n",
      "Requirement already satisfied, skipping upgrade: idna<3,>=2.5 in c:\\users\\aishu\\miniconda\\lib\\site-packages (from requests->huggingface-hub->sentence-transformers) (2.6)\n",
      "Requirement already satisfied, skipping upgrade: certifi>=2017.4.17 in c:\\users\\aishu\\miniconda\\lib\\site-packages (from requests->huggingface-hub->sentence-transformers) (2020.6.20)\n",
      "Requirement already satisfied, skipping upgrade: six in c:\\users\\aishu\\miniconda\\lib\\site-packages (from sacremoses->transformers<5.0.0,>=4.6.0->sentence-transformers) (1.15.0)\n",
      "Installing collected packages: packaging\n",
      "  Attempting uninstall: packaging\n",
      "    Found existing installation: packaging 20.4\n",
      "    Uninstalling packaging-20.4:\n",
      "      Successfully uninstalled packaging-20.4\n",
      "Successfully installed packaging-21.3\n"
     ]
    }
   ],
   "source": [
    "!pip install -U sentence-transformers"
   ]
  },
  {
   "cell_type": "code",
   "execution_count": null,
   "metadata": {},
   "outputs": [],
   "source": [
    "from sentence_transformers import SentenceTransformer, util\n",
    "model = SentenceTransformer('sentence-transformers/all-MiniLM-L6-v2')"
   ]
  },
  {
   "cell_type": "code",
   "execution_count": 45,
   "metadata": {},
   "outputs": [],
   "source": [
    "def calc_similarity(t1,t2,typ='cos'):\n",
    "    emb1 = model.encode(t1)\n",
    "    emb2 = model.encode(t2)\n",
    "    if(typ=='cos'):\n",
    "        cos_sim = util.cos_sim(emb1, emb2)\n",
    "    return cos_sim"
   ]
  },
  {
   "cell_type": "code",
   "execution_count": 46,
   "metadata": {},
   "outputs": [
    {
     "name": "stderr",
     "output_type": "stream",
     "text": [
      "c:\\users\\aishu\\miniconda\\lib\\site-packages\\ipykernel_launcher.py:8: SettingWithCopyWarning: \n",
      "A value is trying to be set on a copy of a slice from a DataFrame.\n",
      "Try using .loc[row_indexer,col_indexer] = value instead\n",
      "\n",
      "See the caveats in the documentation: https://pandas.pydata.org/pandas-docs/stable/user_guide/indexing.html#returning-a-view-versus-a-copy\n",
      "  \n"
     ]
    }
   ],
   "source": [
    "clist = []\n",
    "for index,row in df_sub1.iterrows():\n",
    "    t1 = row['gold']\n",
    "    t2 = row['plain_pred_mp']\n",
    "    tt = calc_similarity(t1,t2)\n",
    "    clist.append(round(float(tt[0][0]),3))\n",
    "\n",
    "df_sub1['cosine_similarity'] = clist"
   ]
  },
  {
   "cell_type": "code",
   "execution_count": 85,
   "metadata": {},
   "outputs": [
    {
     "data": {
      "text/plain": [
       "0.52859375"
      ]
     },
     "execution_count": 85,
     "metadata": {},
     "output_type": "execute_result"
    }
   ],
   "source": [
    "clist = []\n",
    "for index,row in df.iterrows():\n",
    "    t1 = row['gold']\n",
    "    t2 = row['plain_r_pred_mp']\n",
    "    tt = calc_similarity(t1,t2)\n",
    "    clist.append(round(float(tt[0][0]),3))\n",
    "\n",
    "np.array(clist).mean()"
   ]
  },
  {
   "cell_type": "markdown",
   "metadata": {},
   "source": [
    "# calculate perplexity"
   ]
  },
  {
   "cell_type": "code",
   "execution_count": 93,
   "metadata": {
    "collapsed": true
   },
   "outputs": [
    {
     "name": "stdout",
     "output_type": "stream",
     "text": [
      "\n",
      "Args:\n",
      "    model_id (str): model used for calculating Perplexity\n",
      "            NOTE: Perplexity can only be calculated for causal language models.\n",
      "                    This includes models such as gpt2, causal variations of bert,\n",
      "                    causal versions of t5, and more (the full list can be found\n",
      "                    in the AutoModelForCausalLM documentation here:\n",
      "                    https://huggingface.co/docs/transformers/master/en/model_doc/auto#transformers.AutoModelForCausalLM )\n",
      "\n",
      "    input_texts (list of str): input text, each separate text snippet\n",
      "        is one list entry. Perplexity returned will be an average of\n",
      "        the perplexity for each list entry.\n",
      "    stride (int): stride size, defaults to 512\n",
      "    device (str): device to run on, defaults to 'cuda' when available\n",
      "Returns:\n",
      "    perplexity: dictionary containing the average perplexity score for the text\n",
      "        in the input list.\n",
      "Examples:\n",
      "    Example 1:\n",
      "        >>> perplexity = datasets.load_metric(\"perplexity\")\n",
      "        >>> input_texts = [\"lorem ipsum\", \"Happy Birthday!\", \"Bienvenue\"]\n",
      "        >>> results = perplexity.compute(model_id='gpt2',\n",
      "        ...                              input_texts=input_texts,\n",
      "        ...                              stride=1)\n",
      "        >>> round(results[\"perplexity\"], 1)\n",
      "        78.2\n",
      "\n",
      "    Example 2:\n",
      "        >>> perplexity = datasets.load_metric(\"perplexity\")\n",
      "        >>> input_texts = datasets.load_dataset(\"wikitext\",\n",
      "        ...                                     \"wikitext-2-raw-v1\",\n",
      "        ...                                     split=\"test\")[\"text\"][:10] # doctest:+ELLIPSIS\n",
      "        [...]\n",
      "        >>> results = perplexity.compute(model_id='gpt2',\n",
      "        ...                              input_texts=input_texts,\n",
      "        ...                              stride=256)\n",
      "        >>> round(results[\"perplexity\"], 1)\n",
      "        117.9\n",
      "\n",
      "\n"
     ]
    }
   ],
   "source": [
    "from datasets import load_metric\n",
    "metric = load_metric(\"perplexity\")\n",
    "print(metric.inputs_description)"
   ]
  },
  {
   "cell_type": "code",
   "execution_count": 94,
   "metadata": {},
   "outputs": [
    {
     "name": "stderr",
     "output_type": "stream",
     "text": [
      "Special tokens have been added in the vocabulary, make sure the associated word embeddings are fine-tuned or trained.\n"
     ]
    },
    {
     "data": {
      "application/vnd.jupyter.widget-view+json": {
       "model_id": "ee30a85a6641400cb9bf4ed8e8a74481",
       "version_major": 2,
       "version_minor": 0
      },
      "text/plain": [
       "  0%|          | 0/32 [00:00<?, ?it/s]"
      ]
     },
     "metadata": {},
     "output_type": "display_data"
    },
    {
     "data": {
      "text/plain": [
       "{'perplexity': 32.791072845458984}"
      ]
     },
     "execution_count": 94,
     "metadata": {},
     "output_type": "execute_result"
    }
   ],
   "source": [
    "results = metric.compute(model_id='gpt2',input_texts=df['gold'].tolist(),stride=1)\n",
    "results"
   ]
  },
  {
   "cell_type": "code",
   "execution_count": 95,
   "metadata": {},
   "outputs": [
    {
     "name": "stderr",
     "output_type": "stream",
     "text": [
      "Special tokens have been added in the vocabulary, make sure the associated word embeddings are fine-tuned or trained.\n"
     ]
    },
    {
     "data": {
      "application/vnd.jupyter.widget-view+json": {
       "model_id": "cb4f36f45a33449d8abbb1b8b4121829",
       "version_major": 2,
       "version_minor": 0
      },
      "text/plain": [
       "  0%|          | 0/32 [00:00<?, ?it/s]"
      ]
     },
     "metadata": {},
     "output_type": "display_data"
    },
    {
     "data": {
      "text/plain": [
       "{'perplexity': 502.15557861328125}"
      ]
     },
     "execution_count": 95,
     "metadata": {},
     "output_type": "execute_result"
    }
   ],
   "source": [
    "results = metric.compute(model_id='gpt2',input_texts=df['plain_pred_mp'].tolist(),stride=1)\n",
    "results"
   ]
  },
  {
   "cell_type": "code",
   "execution_count": 96,
   "metadata": {},
   "outputs": [
    {
     "name": "stderr",
     "output_type": "stream",
     "text": [
      "Special tokens have been added in the vocabulary, make sure the associated word embeddings are fine-tuned or trained.\n"
     ]
    },
    {
     "data": {
      "application/vnd.jupyter.widget-view+json": {
       "model_id": "6922142be3d440818b40ab52a690ff16",
       "version_major": 2,
       "version_minor": 0
      },
      "text/plain": [
       "  0%|          | 0/32 [00:00<?, ?it/s]"
      ]
     },
     "metadata": {},
     "output_type": "display_data"
    },
    {
     "data": {
      "text/plain": [
       "{'perplexity': 333.6954345703125}"
      ]
     },
     "execution_count": 96,
     "metadata": {},
     "output_type": "execute_result"
    }
   ],
   "source": [
    "results = metric.compute(model_id='gpt2',input_texts=df['both_3l_pred_mp'].tolist(),stride=1)\n",
    "results"
   ]
  },
  {
   "cell_type": "code",
   "execution_count": 97,
   "metadata": {},
   "outputs": [
    {
     "name": "stderr",
     "output_type": "stream",
     "text": [
      "Special tokens have been added in the vocabulary, make sure the associated word embeddings are fine-tuned or trained.\n"
     ]
    },
    {
     "data": {
      "application/vnd.jupyter.widget-view+json": {
       "model_id": "ee42dc5a2a3343dda1d695b2ee78b13c",
       "version_major": 2,
       "version_minor": 0
      },
      "text/plain": [
       "  0%|          | 0/32 [00:00<?, ?it/s]"
      ]
     },
     "metadata": {},
     "output_type": "display_data"
    },
    {
     "data": {
      "text/plain": [
       "{'perplexity': 291.4233703613281}"
      ]
     },
     "execution_count": 97,
     "metadata": {},
     "output_type": "execute_result"
    }
   ],
   "source": [
    "results = metric.compute(model_id='gpt2',input_texts=df['plain_r_pred_mp'].tolist(),stride=1)\n",
    "results"
   ]
  },
  {
   "cell_type": "code",
   "execution_count": null,
   "metadata": {},
   "outputs": [],
   "source": []
  }
 ],
 "metadata": {
  "kernelspec": {
   "display_name": "Python 3",
   "language": "python",
   "name": "python3"
  },
  "language_info": {
   "codemirror_mode": {
    "name": "ipython",
    "version": 3
   },
   "file_extension": ".py",
   "mimetype": "text/x-python",
   "name": "python",
   "nbconvert_exporter": "python",
   "pygments_lexer": "ipython3",
   "version": "3.7.4"
  }
 },
 "nbformat": 4,
 "nbformat_minor": 4
}
